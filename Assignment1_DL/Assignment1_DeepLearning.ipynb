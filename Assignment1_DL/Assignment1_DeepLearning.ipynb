{
 "cells": [
  {
   "cell_type": "markdown",
   "id": "1663f7c9",
   "metadata": {},
   "source": [
    "# Assignment 1\n",
    "# Gradient Descent & Types of Gradient Desce"
   ]
  },
  {
   "cell_type": "markdown",
   "id": "88189af8",
   "metadata": {},
   "source": [
    "**Gradient Descent:**\n",
    "\n",
    "Gradient Descent is an optimization algorithm used to minimize the cost function in machine learning and deep learning models. It iteratively adjusts the model parameters to find the values that minimize the cost function."
   ]
  },
  {
   "cell_type": "markdown",
   "id": "39763fed",
   "metadata": {},
   "source": [
    "**Types of Gradient Descent:**\n",
    "\n",
    "**1. Batch Gradient Descent:**\n",
    "\n",
    "It is also known as vanilla gradient descent. It uses the entire training dataset to compute the gradient of the cost function. It can be computationally expensive for large datasets.\n",
    "\n",
    "**2. Stochastic Gradient Descent (SGD):**\n",
    "\n",
    "It updates the model parameters using only one training example at a time.\n",
    "SGD is faster but introduces more noise into the gradient updates an it can escape local minima due to its noisy updates.\n",
    "\n",
    "**3. Mini-batch Gradient Descent:**\n",
    "\n",
    "A compromise between batch gradient descent and stochastic gradient descent.\n",
    "Uses a small random subset of the training data (mini-batch) to compute the gradient.\n",
    "Balances the efficiency of batch gradient descent with the noise reduction of stochastic gradient descent."
   ]
  },
  {
   "cell_type": "markdown",
   "id": "1d183d44",
   "metadata": {},
   "source": [
    "# Validation Set and Validation Loss"
   ]
  },
  {
   "cell_type": "markdown",
   "id": "74353504",
   "metadata": {},
   "source": [
    "**Validation Set:**\n",
    "\n",
    "A validation set is a subset of the dataset that is not used during training but is used to evaluate the model's performance during training.\n",
    "Helps in tuning hyperparameters and selecting the best model.\n",
    "Prevents overfitting by providing a check on the model's performance on unseen data.\n",
    "\n",
    "\n",
    "**Validation Loss:**\n",
    "\n",
    "Validation loss is the error calculated on the validation set.\n",
    "Indicates how well the model is performing on data that it has not seen during training.\n",
    "A significant difference between training loss and validation loss can indicate overfitting or underfitting."
   ]
  },
  {
   "cell_type": "markdown",
   "id": "21deee98",
   "metadata": {},
   "source": [
    "**Some Key Points:**\n",
    "\n",
    "- During training, the model parameters are adjusted to minimize the training loss.\n",
    "- Validation loss is monitored to ensure that the model generalizes well to new, unseen data.\n",
    "- Early stopping and cross-validation are techniques that use validation loss to improve model performance and prevent overfitting."
   ]
  },
  {
   "cell_type": "markdown",
   "id": "ab91e0c7",
   "metadata": {},
   "source": [
    "# MLP Model Creation"
   ]
  },
  {
   "cell_type": "markdown",
   "id": "d422ca2d",
   "metadata": {},
   "source": [
    "## Importing Required Libraries"
   ]
  },
  {
   "cell_type": "code",
   "execution_count": 28,
   "id": "d92f6b70",
   "metadata": {},
   "outputs": [],
   "source": [
    "import tensorflow as tf\n",
    "from sklearn.model_selection import train_test_split\n",
    "from sklearn.preprocessing import StandardScaler\n",
    "from tensorflow.keras.callbacks import EarlyStopping\n",
    "import pandas as pd\n",
    "import numpy as np\n",
    "import matplotlib.pyplot as plt\n",
    "import seaborn as sns\n",
    "\n",
    "# from sklearn.metrics import accuracy_score\n",
    "# from tensorflow.keras.models import Sequential\n",
    "# from tensorflow.keras.layers import Dense"
   ]
  },
  {
   "cell_type": "markdown",
   "id": "3111cbb1",
   "metadata": {},
   "source": [
    "# Load and Process the data from seaborn"
   ]
  },
  {
   "cell_type": "code",
   "execution_count": 29,
   "id": "9c1c4103",
   "metadata": {},
   "outputs": [],
   "source": [
    "tips = sns.load_dataset('tips')"
   ]
  },
  {
   "cell_type": "code",
   "execution_count": 30,
   "id": "a67e1f80",
   "metadata": {},
   "outputs": [],
   "source": [
    "# Convert categorical variables to dummy values\n",
    "tips = pd.get_dummies(tips, drop_first=True)"
   ]
  },
  {
   "cell_type": "code",
   "execution_count": 31,
   "id": "ed2e6e04",
   "metadata": {},
   "outputs": [],
   "source": [
    "# Separate features and target variable (pridicting 'tips' based on others ffeatures)\n",
    "X = tips.drop('tip', axis=1)\n",
    "y = tips['tip']\n",
    "\n",
    "# Split the dataset\n",
    "X_train, X_test, y_train, y_test = train_test_split(X, y, test_size=0.2, random_state=42)\n",
    "\n",
    "# Standardize the data\n",
    "scaler = StandardScaler()\n",
    "X_train = scaler.fit_transform(X_train)\n",
    "X_test = scaler.transform(X_test)"
   ]
  },
  {
   "cell_type": "markdown",
   "id": "8af2ff49",
   "metadata": {},
   "source": [
    "## Build the Model"
   ]
  },
  {
   "cell_type": "code",
   "execution_count": 44,
   "id": "e8d67067",
   "metadata": {},
   "outputs": [],
   "source": [
    "# Building the model\n",
    "model = tf.keras.models.Sequential([\n",
    "    # Input layer\n",
    "    tf.keras.layers.Dense(64, activation='relu',\n",
    "                          input_shape=(X_train.shape[1],)), \n",
    "     # Hidden layer\n",
    "    tf.keras.layers.Dense(32, activation='relu'), \n",
    "    # Output layer for regression (by default linear activation function)\n",
    "    tf.keras.layers.Dense(1)  \n",
    "])"
   ]
  },
  {
   "cell_type": "markdown",
   "id": "f7df4d05",
   "metadata": {},
   "source": [
    "## Compile the model using Early stopping epochs"
   ]
  },
  {
   "cell_type": "code",
   "execution_count": 45,
   "id": "6f61cfb1",
   "metadata": {},
   "outputs": [],
   "source": [
    "# Compile the model\n",
    "model.compile(optimizer='adam', loss='mean_squared_error')\n",
    "# Define the callback function\n",
    "early_stopping = EarlyStopping(patience=5)"
   ]
  },
  {
   "cell_type": "markdown",
   "id": "9740d338",
   "metadata": {},
   "source": [
    "## Train the model"
   ]
  },
  {
   "cell_type": "code",
   "execution_count": 46,
   "id": "a33db0da",
   "metadata": {},
   "outputs": [],
   "source": [
    "# # Training the model\n",
    "# model.fit(X_train, y_train, epochs=100, batch_size=32, verbose=1)"
   ]
  },
  {
   "cell_type": "code",
   "execution_count": 47,
   "id": "c7bba0ce",
   "metadata": {},
   "outputs": [
    {
     "name": "stdout",
     "output_type": "stream",
     "text": [
      "Epoch 1/100\n",
      "\u001b[1m7/7\u001b[0m \u001b[32m━━━━━━━━━━━━━━━━━━━━\u001b[0m\u001b[37m\u001b[0m \u001b[1m3s\u001b[0m 64ms/step - loss: 11.4561 - val_loss: 7.2819\n",
      "Epoch 2/100\n",
      "\u001b[1m7/7\u001b[0m \u001b[32m━━━━━━━━━━━━━━━━━━━━\u001b[0m\u001b[37m\u001b[0m \u001b[1m0s\u001b[0m 12ms/step - loss: 9.4177 - val_loss: 5.7730\n",
      "Epoch 3/100\n",
      "\u001b[1m7/7\u001b[0m \u001b[32m━━━━━━━━━━━━━━━━━━━━\u001b[0m\u001b[37m\u001b[0m \u001b[1m0s\u001b[0m 12ms/step - loss: 9.1195 - val_loss: 4.4433\n",
      "Epoch 4/100\n",
      "\u001b[1m7/7\u001b[0m \u001b[32m━━━━━━━━━━━━━━━━━━━━\u001b[0m\u001b[37m\u001b[0m \u001b[1m0s\u001b[0m 11ms/step - loss: 6.5375 - val_loss: 3.3038\n",
      "Epoch 5/100\n",
      "\u001b[1m7/7\u001b[0m \u001b[32m━━━━━━━━━━━━━━━━━━━━\u001b[0m\u001b[37m\u001b[0m \u001b[1m0s\u001b[0m 11ms/step - loss: 5.9424 - val_loss: 2.4026\n",
      "Epoch 6/100\n",
      "\u001b[1m7/7\u001b[0m \u001b[32m━━━━━━━━━━━━━━━━━━━━\u001b[0m\u001b[37m\u001b[0m \u001b[1m0s\u001b[0m 14ms/step - loss: 3.5604 - val_loss: 1.7861\n",
      "Epoch 7/100\n",
      "\u001b[1m7/7\u001b[0m \u001b[32m━━━━━━━━━━━━━━━━━━━━\u001b[0m\u001b[37m\u001b[0m \u001b[1m0s\u001b[0m 11ms/step - loss: 3.2736 - val_loss: 1.4369\n",
      "Epoch 8/100\n",
      "\u001b[1m7/7\u001b[0m \u001b[32m━━━━━━━━━━━━━━━━━━━━\u001b[0m\u001b[37m\u001b[0m \u001b[1m0s\u001b[0m 12ms/step - loss: 2.3176 - val_loss: 1.3246\n",
      "Epoch 9/100\n",
      "\u001b[1m7/7\u001b[0m \u001b[32m━━━━━━━━━━━━━━━━━━━━\u001b[0m\u001b[37m\u001b[0m \u001b[1m0s\u001b[0m 12ms/step - loss: 1.6668 - val_loss: 1.2909\n",
      "Epoch 10/100\n",
      "\u001b[1m7/7\u001b[0m \u001b[32m━━━━━━━━━━━━━━━━━━━━\u001b[0m\u001b[37m\u001b[0m \u001b[1m0s\u001b[0m 12ms/step - loss: 1.5596 - val_loss: 1.2818\n",
      "Epoch 11/100\n",
      "\u001b[1m7/7\u001b[0m \u001b[32m━━━━━━━━━━━━━━━━━━━━\u001b[0m\u001b[37m\u001b[0m \u001b[1m0s\u001b[0m 11ms/step - loss: 1.4979 - val_loss: 1.2834\n",
      "Epoch 12/100\n",
      "\u001b[1m7/7\u001b[0m \u001b[32m━━━━━━━━━━━━━━━━━━━━\u001b[0m\u001b[37m\u001b[0m \u001b[1m0s\u001b[0m 14ms/step - loss: 1.2575 - val_loss: 1.2461\n",
      "Epoch 13/100\n",
      "\u001b[1m7/7\u001b[0m \u001b[32m━━━━━━━━━━━━━━━━━━━━\u001b[0m\u001b[37m\u001b[0m \u001b[1m0s\u001b[0m 11ms/step - loss: 1.3117 - val_loss: 1.1848\n",
      "Epoch 14/100\n",
      "\u001b[1m7/7\u001b[0m \u001b[32m━━━━━━━━━━━━━━━━━━━━\u001b[0m\u001b[37m\u001b[0m \u001b[1m0s\u001b[0m 11ms/step - loss: 1.1446 - val_loss: 1.1263\n",
      "Epoch 15/100\n",
      "\u001b[1m7/7\u001b[0m \u001b[32m━━━━━━━━━━━━━━━━━━━━\u001b[0m\u001b[37m\u001b[0m \u001b[1m0s\u001b[0m 11ms/step - loss: 1.0158 - val_loss: 1.1110\n",
      "Epoch 16/100\n",
      "\u001b[1m7/7\u001b[0m \u001b[32m━━━━━━━━━━━━━━━━━━━━\u001b[0m\u001b[37m\u001b[0m \u001b[1m0s\u001b[0m 11ms/step - loss: 1.1754 - val_loss: 1.0593\n",
      "Epoch 17/100\n",
      "\u001b[1m7/7\u001b[0m \u001b[32m━━━━━━━━━━━━━━━━━━━━\u001b[0m\u001b[37m\u001b[0m \u001b[1m0s\u001b[0m 12ms/step - loss: 1.1324 - val_loss: 0.9976\n",
      "Epoch 18/100\n",
      "\u001b[1m7/7\u001b[0m \u001b[32m━━━━━━━━━━━━━━━━━━━━\u001b[0m\u001b[37m\u001b[0m \u001b[1m0s\u001b[0m 15ms/step - loss: 0.9855 - val_loss: 0.9779\n",
      "Epoch 19/100\n",
      "\u001b[1m7/7\u001b[0m \u001b[32m━━━━━━━━━━━━━━━━━━━━\u001b[0m\u001b[37m\u001b[0m \u001b[1m0s\u001b[0m 11ms/step - loss: 1.0637 - val_loss: 0.9735\n",
      "Epoch 20/100\n",
      "\u001b[1m7/7\u001b[0m \u001b[32m━━━━━━━━━━━━━━━━━━━━\u001b[0m\u001b[37m\u001b[0m \u001b[1m0s\u001b[0m 11ms/step - loss: 1.0741 - val_loss: 0.9931\n",
      "Epoch 21/100\n",
      "\u001b[1m7/7\u001b[0m \u001b[32m━━━━━━━━━━━━━━━━━━━━\u001b[0m\u001b[37m\u001b[0m \u001b[1m0s\u001b[0m 12ms/step - loss: 0.9408 - val_loss: 1.0501\n",
      "Epoch 22/100\n",
      "\u001b[1m7/7\u001b[0m \u001b[32m━━━━━━━━━━━━━━━━━━━━\u001b[0m\u001b[37m\u001b[0m \u001b[1m0s\u001b[0m 12ms/step - loss: 0.9903 - val_loss: 1.1215\n",
      "Epoch 23/100\n",
      "\u001b[1m7/7\u001b[0m \u001b[32m━━━━━━━━━━━━━━━━━━━━\u001b[0m\u001b[37m\u001b[0m \u001b[1m0s\u001b[0m 12ms/step - loss: 0.9116 - val_loss: 1.1414\n",
      "Epoch 24/100\n",
      "\u001b[1m7/7\u001b[0m \u001b[32m━━━━━━━━━━━━━━━━━━━━\u001b[0m\u001b[37m\u001b[0m \u001b[1m0s\u001b[0m 16ms/step - loss: 0.9620 - val_loss: 1.1050\n"
     ]
    }
   ],
   "source": [
    "# Train the model with the callback function\n",
    "history = model.fit(X_train, y_train, epochs=100, batch_size=32, verbose=1,\n",
    "                    validation_data=(X_test, y_test),\n",
    "                    callbacks=[early_stopping])"
   ]
  },
  {
   "cell_type": "markdown",
   "id": "eee43649",
   "metadata": {},
   "source": [
    "## Evaluate the model"
   ]
  },
  {
   "cell_type": "code",
   "execution_count": 48,
   "id": "370e5989",
   "metadata": {},
   "outputs": [
    {
     "data": {
      "text/plain": [
       "1.1050125360488892"
      ]
     },
     "execution_count": 48,
     "metadata": {},
     "output_type": "execute_result"
    }
   ],
   "source": [
    "# Evaluating the model (using Mean Squared Error)\n",
    "loss = model.evaluate(X_test, y_test, verbose=0)\n",
    "loss"
   ]
  },
  {
   "cell_type": "markdown",
   "id": "f2427816",
   "metadata": {},
   "source": [
    "## Plotting"
   ]
  },
  {
   "cell_type": "code",
   "execution_count": 50,
   "id": "d63a6d42",
   "metadata": {},
   "outputs": [
    {
     "data": {
      "image/png": "[encoded data removed]",
      "text/plain": [
       "<Figure size 640x480 with 1 Axes>"
      ]
     },
     "metadata": {},
     "output_type": "display_data"
    }
   ],
   "source": [
    "# Plotting the training and testing loss\n",
    "\n",
    "plt.plot(history.history['loss'])\n",
    "plt.plot(history.history['val_loss'])\n",
    "plt.title('Model loss')\n",
    "plt.xlabel('Epoch')\n",
    "plt.ylabel('Loss')\n",
    "plt.legend(['Train', 'Validation'], loc='upper right')\n",
    "plt.show()"
   ]
  },
  {
   "cell_type": "code",
   "execution_count": null,
   "id": "8aec4720",
   "metadata": {},
   "outputs": [],
   "source": []
  },
  {
   "cell_type": "code",
   "execution_count": null,
   "id": "1280f48b",
   "metadata": {},
   "outputs": [],
   "source": []
  }
 ],
 "metadata": {
  "kernelspec": {
   "display_name": "Python 3 (ipykernel)",
   "language": "python",
   "name": "python3"
  },
  "language_info": {
   "codemirror_mode": {
    "name": "ipython",
    "version": 3
   },
   "file_extension": ".py",
   "mimetype": "text/x-python",
   "name": "python",
   "nbconvert_exporter": "python",
   "pygments_lexer": "ipython3",
   "version": "3.11.3"
  }
 },
 "nbformat": 4,
 "nbformat_minor": 5
}
